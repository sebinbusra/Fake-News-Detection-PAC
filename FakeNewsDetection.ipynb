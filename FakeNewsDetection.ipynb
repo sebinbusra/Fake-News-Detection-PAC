{
  "nbformat": 4,
  "nbformat_minor": 0,
  "metadata": {
    "colab": {
      "name": "FakeNewsDetection.ipynb",
      "provenance": [],
      "collapsed_sections": []
    },
    "kernelspec": {
      "name": "python3",
      "display_name": "Python 3"
    },
    "language_info": {
      "name": "python"
    }
  },
  "cells": [
    {
      "cell_type": "markdown",
      "source": [
        "Importing Necessary Modules"
      ],
      "metadata": {
        "id": "18coWt5IaqLh"
      }
    },
    {
      "cell_type": "code",
      "execution_count": 1,
      "metadata": {
        "colab": {
          "base_uri": "https://localhost:8080/"
        },
        "id": "24j8qli2aoQu",
        "outputId": "4cf5a71e-4d18-4a67-b987-04c6c55ef41e"
      },
      "outputs": [
        {
          "output_type": "stream",
          "name": "stderr",
          "text": [
            "[nltk_data] Downloading package punkt to /root/nltk_data...\n",
            "[nltk_data]   Unzipping tokenizers/punkt.zip.\n",
            "[nltk_data] Downloading package stopwords to /root/nltk_data...\n",
            "[nltk_data]   Unzipping corpora/stopwords.zip.\n"
          ]
        },
        {
          "output_type": "execute_result",
          "data": {
            "text/plain": [
              "True"
            ]
          },
          "metadata": {},
          "execution_count": 1
        }
      ],
      "source": [
        "import itertools\n",
        "import numpy as np\n",
        "import pandas as pd\n",
        "import seaborn as sns\n",
        "import matplotlib.pyplot as plt\n",
        "from sklearn.model_selection import train_test_split\n",
        "from sklearn.model_selection import KFold, StratifiedKFold\n",
        "from sklearn.feature_extraction.text import TfidfVectorizer, CountVectorizer\n",
        "from sklearn.linear_model import PassiveAggressiveClassifier\n",
        "from sklearn.tree import DecisionTreeClassifier\n",
        "from sklearn.neighbors import KNeighborsClassifier\n",
        "from sklearn.metrics import accuracy_score, confusion_matrix, classification_report\n",
        "\n",
        "import nltk, re, string\n",
        "from nltk.tokenize import word_tokenize # for Tokenizing the sentnces as tokens\n",
        "from nltk.stem.porter import PorterStemmer # converting words to their root forms ,speed and simplicity\n",
        "porter = PorterStemmer() #Create stemmer object\n",
        "from nltk.corpus import stopwords # For Removing Stop words like < the , an , is ,..etc >\n",
        "nltk.download('punkt')\n",
        "nltk.download('stopwords')"
      ]
    },
    {
      "cell_type": "markdown",
      "source": [
        "About Dataset"
      ],
      "metadata": {
        "id": "zIK6m835apO6"
      }
    },
    {
      "cell_type": "code",
      "source": [
        "# Read the data\n",
        "df = pd.read_csv(\"news.csv\")"
      ],
      "metadata": {
        "id": "6LRG6TEHa5Od"
      },
      "execution_count": 2,
      "outputs": []
    },
    {
      "cell_type": "code",
      "source": [
        "# Get shape and head\n",
        "print(\"Total Records: \", df.shape[0])\n",
        "print(\"Columns \", df.columns)\n",
        "df.head()"
      ],
      "metadata": {
        "colab": {
          "base_uri": "https://localhost:8080/",
          "height": 242
        },
        "id": "PoFosFCElDsX",
        "outputId": "1411b10c-8baa-4449-c6bb-f9f29fc749d8"
      },
      "execution_count": 3,
      "outputs": [
        {
          "output_type": "stream",
          "name": "stdout",
          "text": [
            "Total Records:  6335\n",
            "Columns  Index(['Unnamed: 0', 'title', 'text', 'label'], dtype='object')\n"
          ]
        },
        {
          "output_type": "execute_result",
          "data": {
            "text/plain": [
              "   Unnamed: 0                                              title  \\\n",
              "0        8476                       You Can Smell Hillary’s Fear   \n",
              "1       10294  Watch The Exact Moment Paul Ryan Committed Pol...   \n",
              "2        3608        Kerry to go to Paris in gesture of sympathy   \n",
              "3       10142  Bernie supporters on Twitter erupt in anger ag...   \n",
              "4         875   The Battle of New York: Why This Primary Matters   \n",
              "\n",
              "                                                text label  \n",
              "0  Daniel Greenfield, a Shillman Journalism Fello...  FAKE  \n",
              "1  Google Pinterest Digg Linkedin Reddit Stumbleu...  FAKE  \n",
              "2  U.S. Secretary of State John F. Kerry said Mon...  REAL  \n",
              "3  — Kaydee King (@KaydeeKing) November 9, 2016 T...  FAKE  \n",
              "4  It's primary day in New York and front-runners...  REAL  "
            ],
            "text/html": [
              "\n",
              "  <div id=\"df-6bf30aa0-2645-4d8d-a4da-2dddb18eb767\">\n",
              "    <div class=\"colab-df-container\">\n",
              "      <div>\n",
              "<style scoped>\n",
              "    .dataframe tbody tr th:only-of-type {\n",
              "        vertical-align: middle;\n",
              "    }\n",
              "\n",
              "    .dataframe tbody tr th {\n",
              "        vertical-align: top;\n",
              "    }\n",
              "\n",
              "    .dataframe thead th {\n",
              "        text-align: right;\n",
              "    }\n",
              "</style>\n",
              "<table border=\"1\" class=\"dataframe\">\n",
              "  <thead>\n",
              "    <tr style=\"text-align: right;\">\n",
              "      <th></th>\n",
              "      <th>Unnamed: 0</th>\n",
              "      <th>title</th>\n",
              "      <th>text</th>\n",
              "      <th>label</th>\n",
              "    </tr>\n",
              "  </thead>\n",
              "  <tbody>\n",
              "    <tr>\n",
              "      <th>0</th>\n",
              "      <td>8476</td>\n",
              "      <td>You Can Smell Hillary’s Fear</td>\n",
              "      <td>Daniel Greenfield, a Shillman Journalism Fello...</td>\n",
              "      <td>FAKE</td>\n",
              "    </tr>\n",
              "    <tr>\n",
              "      <th>1</th>\n",
              "      <td>10294</td>\n",
              "      <td>Watch The Exact Moment Paul Ryan Committed Pol...</td>\n",
              "      <td>Google Pinterest Digg Linkedin Reddit Stumbleu...</td>\n",
              "      <td>FAKE</td>\n",
              "    </tr>\n",
              "    <tr>\n",
              "      <th>2</th>\n",
              "      <td>3608</td>\n",
              "      <td>Kerry to go to Paris in gesture of sympathy</td>\n",
              "      <td>U.S. Secretary of State John F. Kerry said Mon...</td>\n",
              "      <td>REAL</td>\n",
              "    </tr>\n",
              "    <tr>\n",
              "      <th>3</th>\n",
              "      <td>10142</td>\n",
              "      <td>Bernie supporters on Twitter erupt in anger ag...</td>\n",
              "      <td>— Kaydee King (@KaydeeKing) November 9, 2016 T...</td>\n",
              "      <td>FAKE</td>\n",
              "    </tr>\n",
              "    <tr>\n",
              "      <th>4</th>\n",
              "      <td>875</td>\n",
              "      <td>The Battle of New York: Why This Primary Matters</td>\n",
              "      <td>It's primary day in New York and front-runners...</td>\n",
              "      <td>REAL</td>\n",
              "    </tr>\n",
              "  </tbody>\n",
              "</table>\n",
              "</div>\n",
              "      <button class=\"colab-df-convert\" onclick=\"convertToInteractive('df-6bf30aa0-2645-4d8d-a4da-2dddb18eb767')\"\n",
              "              title=\"Convert this dataframe to an interactive table.\"\n",
              "              style=\"display:none;\">\n",
              "        \n",
              "  <svg xmlns=\"http://www.w3.org/2000/svg\" height=\"24px\"viewBox=\"0 0 24 24\"\n",
              "       width=\"24px\">\n",
              "    <path d=\"M0 0h24v24H0V0z\" fill=\"none\"/>\n",
              "    <path d=\"M18.56 5.44l.94 2.06.94-2.06 2.06-.94-2.06-.94-.94-2.06-.94 2.06-2.06.94zm-11 1L8.5 8.5l.94-2.06 2.06-.94-2.06-.94L8.5 2.5l-.94 2.06-2.06.94zm10 10l.94 2.06.94-2.06 2.06-.94-2.06-.94-.94-2.06-.94 2.06-2.06.94z\"/><path d=\"M17.41 7.96l-1.37-1.37c-.4-.4-.92-.59-1.43-.59-.52 0-1.04.2-1.43.59L10.3 9.45l-7.72 7.72c-.78.78-.78 2.05 0 2.83L4 21.41c.39.39.9.59 1.41.59.51 0 1.02-.2 1.41-.59l7.78-7.78 2.81-2.81c.8-.78.8-2.07 0-2.86zM5.41 20L4 18.59l7.72-7.72 1.47 1.35L5.41 20z\"/>\n",
              "  </svg>\n",
              "      </button>\n",
              "      \n",
              "  <style>\n",
              "    .colab-df-container {\n",
              "      display:flex;\n",
              "      flex-wrap:wrap;\n",
              "      gap: 12px;\n",
              "    }\n",
              "\n",
              "    .colab-df-convert {\n",
              "      background-color: #E8F0FE;\n",
              "      border: none;\n",
              "      border-radius: 50%;\n",
              "      cursor: pointer;\n",
              "      display: none;\n",
              "      fill: #1967D2;\n",
              "      height: 32px;\n",
              "      padding: 0 0 0 0;\n",
              "      width: 32px;\n",
              "    }\n",
              "\n",
              "    .colab-df-convert:hover {\n",
              "      background-color: #E2EBFA;\n",
              "      box-shadow: 0px 1px 2px rgba(60, 64, 67, 0.3), 0px 1px 3px 1px rgba(60, 64, 67, 0.15);\n",
              "      fill: #174EA6;\n",
              "    }\n",
              "\n",
              "    [theme=dark] .colab-df-convert {\n",
              "      background-color: #3B4455;\n",
              "      fill: #D2E3FC;\n",
              "    }\n",
              "\n",
              "    [theme=dark] .colab-df-convert:hover {\n",
              "      background-color: #434B5C;\n",
              "      box-shadow: 0px 1px 3px 1px rgba(0, 0, 0, 0.15);\n",
              "      filter: drop-shadow(0px 1px 2px rgba(0, 0, 0, 0.3));\n",
              "      fill: #FFFFFF;\n",
              "    }\n",
              "  </style>\n",
              "\n",
              "      <script>\n",
              "        const buttonEl =\n",
              "          document.querySelector('#df-6bf30aa0-2645-4d8d-a4da-2dddb18eb767 button.colab-df-convert');\n",
              "        buttonEl.style.display =\n",
              "          google.colab.kernel.accessAllowed ? 'block' : 'none';\n",
              "\n",
              "        async function convertToInteractive(key) {\n",
              "          const element = document.querySelector('#df-6bf30aa0-2645-4d8d-a4da-2dddb18eb767');\n",
              "          const dataTable =\n",
              "            await google.colab.kernel.invokeFunction('convertToInteractive',\n",
              "                                                     [key], {});\n",
              "          if (!dataTable) return;\n",
              "\n",
              "          const docLinkHtml = 'Like what you see? Visit the ' +\n",
              "            '<a target=\"_blank\" href=https://colab.research.google.com/notebooks/data_table.ipynb>data table notebook</a>'\n",
              "            + ' to learn more about interactive tables.';\n",
              "          element.innerHTML = '';\n",
              "          dataTable['output_type'] = 'display_data';\n",
              "          await google.colab.output.renderOutput(dataTable, element);\n",
              "          const docLink = document.createElement('div');\n",
              "          docLink.innerHTML = docLinkHtml;\n",
              "          element.appendChild(docLink);\n",
              "        }\n",
              "      </script>\n",
              "    </div>\n",
              "  </div>\n",
              "  "
            ]
          },
          "metadata": {},
          "execution_count": 3
        }
      ]
    },
    {
      "cell_type": "code",
      "source": [
        "# counting the number of missing values in the dataset\n",
        "df.isnull().sum()"
      ],
      "metadata": {
        "colab": {
          "base_uri": "https://localhost:8080/"
        },
        "id": "jIdQPcZ-kHkD",
        "outputId": "db9ad035-2169-4555-fde0-354e15c8b3ea"
      },
      "execution_count": 4,
      "outputs": [
        {
          "output_type": "execute_result",
          "data": {
            "text/plain": [
              "Unnamed: 0    0\n",
              "title         0\n",
              "text          0\n",
              "label         0\n",
              "dtype: int64"
            ]
          },
          "metadata": {},
          "execution_count": 4
        }
      ]
    },
    {
      "cell_type": "code",
      "source": [
        "# merging the title and text in order to increase amount of input\n",
        "df[\"merged\"] = df[\"title\"] + \" \" + df[\"text\"]"
      ],
      "metadata": {
        "id": "nsviF9QbmnuB"
      },
      "execution_count": 5,
      "outputs": []
    },
    {
      "cell_type": "code",
      "source": [
        "# Define Clean Function to fix text\n",
        "def clean_text(text):\n",
        "\n",
        "  # Frist converting all letters to lower case\n",
        "  text= text.lower()\n",
        "  \n",
        "  # removing unwanted digits ,special chracters from the text\n",
        "  text= ' '.join(re.sub(\"(@[A-Za-z0-9]+)\", \" \", text).split()) #tags\n",
        "  text= ' '.join(re.sub(\"^@?(\\w){1,15}$\", \" \", text).split())\n",
        "    \n",
        "  text= ' '.join(re.sub(\"(\\w+:\\/\\/\\S+)\", \" \", text).split())   #Links\n",
        "  text= ' '.join(re.sub(\"http[s]?://(?:[a-zA-Z]|[0-9]|[$-_@.&+]|[!*\\(\\), ]|(?:%[0-9a-fA-F][0-9a-fA-F]))+\",\" \", text).split()) \n",
        "  text= ' '.join(re.sub(r'http\\S+', '',text).split())\n",
        "  \n",
        "  \n",
        "  text= ' '.join(re.sub(\"\\s+\", \" \",text).split()) #Extrem white Space\n",
        "  text= ' '.join(re.sub(\"[^-9A-Za-z ]\", \"\" ,text).split()) #digits \n",
        "  text= ' '.join(re.sub('-', ' ', text).split()) \n",
        "  text= ' '.join(re.sub('_', ' ', text).split())\n",
        "  \n",
        "  # Split Sentence as tokens words \n",
        "  tokens = word_tokenize(text)\n",
        "  \n",
        "  # converting words to their root forms by STEMMING THE WORDS \n",
        "  stemmed = [porter.stem(word) for word in tokens]\n",
        "  \n",
        "  # Delete each stop words from English stop words\n",
        "  words = [w for w in stemmed if not w in stopwords.words('english')]\n",
        "  text  = ' '.join(words)\n",
        "    \n",
        "  return text"
      ],
      "metadata": {
        "id": "Jf5uF5oCv17F"
      },
      "execution_count": 6,
      "outputs": []
    },
    {
      "cell_type": "code",
      "source": [
        "# apply Clean Function to our Text\n",
        "df.text =[clean_text(x) for x in df[\"merged\"]]"
      ],
      "metadata": {
        "id": "IE07h9LWzQMd"
      },
      "execution_count": 7,
      "outputs": []
    },
    {
      "cell_type": "code",
      "source": [
        "# Get the labels\n",
        "labels = df.label\n",
        "labels.head()\n",
        "\n",
        "sns.countplot(df.label)\n",
        "plt.title(\"Distribution of Real and Fake News\")\n",
        "plt.show()"
      ],
      "metadata": {
        "colab": {
          "base_uri": "https://localhost:8080/",
          "height": 351
        },
        "id": "eQgry2wZa8jm",
        "outputId": "8c566c45-0f44-46a1-c86a-973b84d2b14b"
      },
      "execution_count": 8,
      "outputs": [
        {
          "output_type": "stream",
          "name": "stderr",
          "text": [
            "/usr/local/lib/python3.7/dist-packages/seaborn/_decorators.py:43: FutureWarning: Pass the following variable as a keyword arg: x. From version 0.12, the only valid positional argument will be `data`, and passing other arguments without an explicit keyword will result in an error or misinterpretation.\n",
            "  FutureWarning\n"
          ]
        },
        {
          "output_type": "display_data",
          "data": {
            "text/plain": [
              "<Figure size 432x288 with 1 Axes>"
            ],
            "image/png": "[encoded data removed]"
          },
          "metadata": {
            "needs_background": "light"
          }
        }
      ]
    },
    {
      "cell_type": "markdown",
      "source": [
        "TFIDF Vectorizer"
      ],
      "metadata": {
        "id": "HuxncH_sm-1R"
      }
    },
    {
      "cell_type": "code",
      "source": [
        "# Split the dataset\n",
        "x_train,x_test,y_train,y_test = train_test_split(df[\"text\"], labels, test_size=0.2, stratify=labels, shuffle=True, random_state=42)\n",
        "\n",
        "# Initialize a TfidfVectorizer\n",
        "tfidf_vectorizer = TfidfVectorizer(ngram_range=(1,3), stop_words='english', max_df=0.7)\n",
        "\n",
        "# Fit and transform train set, transform test set\n",
        "tfidf_vec = tfidf_vectorizer.fit(x_train) \n",
        "tfidf_train = tfidf_vec.transform(x_train)\n",
        "tfidf_test = tfidf_vectorizer.transform(x_test)"
      ],
      "metadata": {
        "id": "O9W1YUGba-f0"
      },
      "execution_count": 9,
      "outputs": []
    },
    {
      "cell_type": "code",
      "source": [
        "# Initialize a PassiveAggressiveClassifier\n",
        "pac = PassiveAggressiveClassifier(max_iter=50)\n",
        "pac.fit(tfidf_train,y_train)\n",
        "\n",
        "# Predict on the test set and calculate accuracy\n",
        "y_pred = pac.predict(tfidf_test)\n",
        "score = accuracy_score(y_test,y_pred)\n",
        "print(f'Accuracy: {round(score*100,2)}%')"
      ],
      "metadata": {
        "colab": {
          "base_uri": "https://localhost:8080/"
        },
        "id": "yXl9ImNYbDMh",
        "outputId": "fb971972-ec2c-4789-a179-55a3853e0c6e"
      },
      "execution_count": 11,
      "outputs": [
        {
          "output_type": "stream",
          "name": "stdout",
          "text": [
            "Accuracy: 93.92%\n"
          ]
        }
      ]
    },
    {
      "cell_type": "code",
      "source": [
        "# Build confusion matrix\n",
        "confusion_matrix(y_test,y_pred, labels=['FAKE','REAL'])\n",
        "\n",
        "cls_rep = classification_report(y_test, y_pred)\n",
        "print(cls_rep)"
      ],
      "metadata": {
        "colab": {
          "base_uri": "https://localhost:8080/"
        },
        "id": "B06djcWKbfod",
        "outputId": "e02bb3a8-1b90-4548-d12b-e2fc5bc66865"
      },
      "execution_count": 12,
      "outputs": [
        {
          "output_type": "stream",
          "name": "stdout",
          "text": [
            "              precision    recall  f1-score   support\n",
            "\n",
            "        FAKE       0.96      0.92      0.94       633\n",
            "        REAL       0.92      0.96      0.94       634\n",
            "\n",
            "    accuracy                           0.94      1267\n",
            "   macro avg       0.94      0.94      0.94      1267\n",
            "weighted avg       0.94      0.94      0.94      1267\n",
            "\n"
          ]
        }
      ]
    },
    {
      "cell_type": "markdown",
      "source": [
        "Count Vectorizer"
      ],
      "metadata": {
        "id": "NJ_pTjvfnDRM"
      }
    },
    {
      "cell_type": "code",
      "source": [
        "# Initialize a TfidfVectorizer\n",
        "count_vectorizer = CountVectorizer(ngram_range=(1,3), stop_words='english', max_df=0.7)\n",
        "\n",
        "# Fit and transform train set, transform test set\n",
        "count_vec = count_vectorizer.fit(x_train) \n",
        "count_train = count_vec.transform(x_train)\n",
        "count_test = count_vectorizer.transform(x_test)"
      ],
      "metadata": {
        "id": "KQ_HGtXObJgk"
      },
      "execution_count": 13,
      "outputs": []
    },
    {
      "cell_type": "code",
      "source": [
        "# Initialize a PassiveAggressiveClassifier\n",
        "pac = PassiveAggressiveClassifier(max_iter=50)\n",
        "pac.fit(count_train,y_train)\n",
        "\n",
        "# Predict on the test set and calculate accuracy\n",
        "y_pred = pac.predict(count_test)\n",
        "score = accuracy_score(y_test,y_pred)\n",
        "print(f'Accuracy: {round(score*100,2)}%') "
      ],
      "metadata": {
        "colab": {
          "base_uri": "https://localhost:8080/"
        },
        "id": "ZozN5ErTbgzq",
        "outputId": "6e3cce4c-dfa2-49f6-b2d7-20267da0ffb3"
      },
      "execution_count": 14,
      "outputs": [
        {
          "output_type": "stream",
          "name": "stdout",
          "text": [
            "Accuracy: 91.48%\n"
          ]
        }
      ]
    },
    {
      "cell_type": "code",
      "source": [
        "# Build confusion matrix\n",
        "confusion_matrix(y_test,y_pred, labels=['FAKE','REAL'])\n",
        "\n",
        "cls_rep = classification_report(y_test, y_pred)\n",
        "print(cls_rep)"
      ],
      "metadata": {
        "colab": {
          "base_uri": "https://localhost:8080/"
        },
        "id": "LaYBEVLQHhFL",
        "outputId": "c9b8a6df-5a99-458f-8f9f-ece937c71a49"
      },
      "execution_count": 15,
      "outputs": [
        {
          "output_type": "stream",
          "name": "stdout",
          "text": [
            "              precision    recall  f1-score   support\n",
            "\n",
            "        FAKE       0.92      0.91      0.91       633\n",
            "        REAL       0.91      0.92      0.91       634\n",
            "\n",
            "    accuracy                           0.91      1267\n",
            "   macro avg       0.91      0.91      0.91      1267\n",
            "weighted avg       0.91      0.91      0.91      1267\n",
            "\n"
          ]
        }
      ]
    },
    {
      "cell_type": "markdown",
      "source": [
        "10-fold cross validation"
      ],
      "metadata": {
        "id": "rvQcvnK0au4U"
      }
    },
    {
      "cell_type": "code",
      "source": [
        "corpus = df['text']\n",
        "y = labels\n",
        "\n",
        "def evaluate_models(corpus, y, vect=CountVectorizer(ngram_range=(1,3), stop_words='english', max_df=0.7), model=PassiveAggressiveClassifier(), n_splits=10):\n",
        "  kf = KFold(n_splits=10, shuffle=True)\n",
        "  acc_performances = []\n",
        "  for train_index, test_index in kf.split(corpus,y):\n",
        "    corpus_train = corpus[train_index]\n",
        "    corpus_test = corpus[test_index]\n",
        "    y_train = y[train_index]\n",
        "    y_test = y[test_index]\n",
        "    # vectorization process\n",
        "    vect.fit(corpus_train)\n",
        "    X_train = vect.transform(corpus_train)\n",
        "    X_test = vect.transform(corpus_test)\n",
        "    # train model\n",
        "    model.fit(X_train, y_train)\n",
        "    # test model => get predictions\n",
        "    y_pred = model.predict(X_test)\n",
        "    # compute performance\n",
        "    acc = accuracy_score(y_test, y_pred)\n",
        "    acc_performances.append(acc)\n",
        "    return np.mean(acc_performances)"
      ],
      "metadata": {
        "id": "OIOidyNEb9wX"
      },
      "execution_count": 16,
      "outputs": []
    },
    {
      "cell_type": "code",
      "source": [
        "pac_perf1 = evaluate_models(corpus, y)\n",
        "print(f'Passive Agressive Model with Count Vectorizer 10-fold Accuracy {pac_perf1}')"
      ],
      "metadata": {
        "colab": {
          "base_uri": "https://localhost:8080/"
        },
        "id": "a47EJkI0pzPx",
        "outputId": "fed2b948-e0f4-4169-fccc-8610a5a98dfc"
      },
      "execution_count": 17,
      "outputs": [
        {
          "output_type": "stream",
          "name": "stdout",
          "text": [
            "Passive Agressive Model with Count Vectorizer 10-fold Accuracy 0.916403785488959\n"
          ]
        }
      ]
    },
    {
      "cell_type": "code",
      "source": [
        "pac_perf2 = evaluate_models(corpus, y, vect = TfidfVectorizer(ngram_range=(1,3), stop_words='english', max_df=0.7))\n",
        "print(f'Passive Agressive Model with TFIDF Vectorizer 10-fold Accuracy {pac_perf2}')"
      ],
      "metadata": {
        "colab": {
          "base_uri": "https://localhost:8080/"
        },
        "id": "Blo1owxWrkVm",
        "outputId": "4a7aeff0-629e-4f8f-ee67-80634f8fa634"
      },
      "execution_count": 18,
      "outputs": [
        {
          "output_type": "stream",
          "name": "stdout",
          "text": [
            "Passive Agressive Model with TFIDF Vectorizer 10-fold Accuracy 0.9227129337539433\n"
          ]
        }
      ]
    },
    {
      "cell_type": "code",
      "source": [
        "dt_perf1 = evaluate_models(corpus, y, model = DecisionTreeClassifier())\n",
        "print(f'Decision Tree Model with Count Vectorizer 10-fold Accuracy {dt_perf1}')"
      ],
      "metadata": {
        "colab": {
          "base_uri": "https://localhost:8080/"
        },
        "id": "FnZH-vxsqQ24",
        "outputId": "e22671af-0699-47e2-beec-65cb050482e4"
      },
      "execution_count": 19,
      "outputs": [
        {
          "output_type": "stream",
          "name": "stdout",
          "text": [
            "Decision Tree Model with Count Vectorizer 10-fold Accuracy 0.8249211356466877\n"
          ]
        }
      ]
    },
    {
      "cell_type": "code",
      "source": [
        "dt_perf2 = evaluate_models(corpus, y, model = DecisionTreeClassifier(), vect = TfidfVectorizer(ngram_range=(1,3), stop_words='english', max_df=0.7))\n",
        "print(f'Decision Tree Model with TFIDF Vectorizer 10-fold Accuracy {dt_perf2}')"
      ],
      "metadata": {
        "colab": {
          "base_uri": "https://localhost:8080/"
        },
        "id": "3yLAOMwEslQ9",
        "outputId": "2dfb7c09-e43b-441f-9f77-9022cc4c8f59"
      },
      "execution_count": 20,
      "outputs": [
        {
          "output_type": "stream",
          "name": "stdout",
          "text": [
            "Decision Tree Model with TFIDF Vectorizer 10-fold Accuracy 0.7649842271293376\n"
          ]
        }
      ]
    },
    {
      "cell_type": "code",
      "source": [
        "knn_perf1 = evaluate_models(corpus, y, model = KNeighborsClassifier(n_neighbors=5,algorithm='brute'))\n",
        "print(f'KNeighbors Model with Count Vectorizer 10-fold Accuracy {knn_perf1}')"
      ],
      "metadata": {
        "colab": {
          "base_uri": "https://localhost:8080/"
        },
        "id": "qBUnYASTqj96",
        "outputId": "11b8b4cc-795f-45e7-db68-9b84301e3305"
      },
      "execution_count": 21,
      "outputs": [
        {
          "output_type": "stream",
          "name": "stdout",
          "text": [
            "KNeighbors Model with Count Vectorizer 10-fold Accuracy 0.7728706624605678\n"
          ]
        }
      ]
    },
    {
      "cell_type": "code",
      "source": [
        "knn_perf2 = evaluate_models(corpus, y, model = KNeighborsClassifier(n_neighbors=5,algorithm='brute'), vect = TfidfVectorizer(ngram_range=(1,3), stop_words='english', max_df=0.7))\n",
        "print(f'KNeighbors Model with TFIDF Vectorizer 10-fold Accuracy {knn_perf2}')"
      ],
      "metadata": {
        "colab": {
          "base_uri": "https://localhost:8080/"
        },
        "id": "g-f-9ROtszUN",
        "outputId": "f8aebcbd-fc2b-4c46-d002-1e93a1528a76"
      },
      "execution_count": 22,
      "outputs": [
        {
          "output_type": "stream",
          "name": "stdout",
          "text": [
            "KNeighbors Model with TFIDF Vectorizer 10-fold Accuracy 0.8643533123028391\n"
          ]
        }
      ]
    },
    {
      "cell_type": "code",
      "source": [
        "results = pd.DataFrame([[\"Passive Agressive Model with Count Vectorizer\",pac_perf1],[\"Passive Agressive Model with TFIDF Vectorizer\",pac_perf2],[\"Decision Tree Model with Count Vectorizer\",dt_perf1],\n",
        "                       [\"Decision Tree Model with TFIDF Vectorizer\",dt_perf2],[\"KNeighbors Model with Count Vectorizer\",knn_perf1],[\"KNeighbors Model with TFIDF Vectorizer\",knn_perf2]],columns=[\"Model\",\"Accuracy\"])\n",
        "\n",
        "results"
      ],
      "metadata": {
        "colab": {
          "base_uri": "https://localhost:8080/",
          "height": 238
        },
        "id": "T_EUJWGFJE4i",
        "outputId": "42868b66-cb9d-4594-a9f1-45e3effd08ca"
      },
      "execution_count": 23,
      "outputs": [
        {
          "output_type": "execute_result",
          "data": {
            "text/plain": [
              "                                           Model  Accuracy\n",
              "0  Passive Agressive Model with Count Vectorizer  0.916404\n",
              "1  Passive Agressive Model with TFIDF Vectorizer  0.922713\n",
              "2      Decision Tree Model with Count Vectorizer  0.824921\n",
              "3      Decision Tree Model with TFIDF Vectorizer  0.764984\n",
              "4         KNeighbors Model with Count Vectorizer  0.772871\n",
              "5         KNeighbors Model with TFIDF Vectorizer  0.864353"
            ],
            "text/html": [
              "\n",
              "  <div id=\"df-9f93ea2c-a873-4aa0-9b39-a49c5cfbf34a\">\n",
              "    <div class=\"colab-df-container\">\n",
              "      <div>\n",
              "<style scoped>\n",
              "    .dataframe tbody tr th:only-of-type {\n",
              "        vertical-align: middle;\n",
              "    }\n",
              "\n",
              "    .dataframe tbody tr th {\n",
              "        vertical-align: top;\n",
              "    }\n",
              "\n",
              "    .dataframe thead th {\n",
              "        text-align: right;\n",
              "    }\n",
              "</style>\n",
              "<table border=\"1\" class=\"dataframe\">\n",
              "  <thead>\n",
              "    <tr style=\"text-align: right;\">\n",
              "      <th></th>\n",
              "      <th>Model</th>\n",
              "      <th>Accuracy</th>\n",
              "    </tr>\n",
              "  </thead>\n",
              "  <tbody>\n",
              "    <tr>\n",
              "      <th>0</th>\n",
              "      <td>Passive Agressive Model with Count Vectorizer</td>\n",
              "      <td>0.916404</td>\n",
              "    </tr>\n",
              "    <tr>\n",
              "      <th>1</th>\n",
              "      <td>Passive Agressive Model with TFIDF Vectorizer</td>\n",
              "      <td>0.922713</td>\n",
              "    </tr>\n",
              "    <tr>\n",
              "      <th>2</th>\n",
              "      <td>Decision Tree Model with Count Vectorizer</td>\n",
              "      <td>0.824921</td>\n",
              "    </tr>\n",
              "    <tr>\n",
              "      <th>3</th>\n",
              "      <td>Decision Tree Model with TFIDF Vectorizer</td>\n",
              "      <td>0.764984</td>\n",
              "    </tr>\n",
              "    <tr>\n",
              "      <th>4</th>\n",
              "      <td>KNeighbors Model with Count Vectorizer</td>\n",
              "      <td>0.772871</td>\n",
              "    </tr>\n",
              "    <tr>\n",
              "      <th>5</th>\n",
              "      <td>KNeighbors Model with TFIDF Vectorizer</td>\n",
              "      <td>0.864353</td>\n",
              "    </tr>\n",
              "  </tbody>\n",
              "</table>\n",
              "</div>\n",
              "      <button class=\"colab-df-convert\" onclick=\"convertToInteractive('df-9f93ea2c-a873-4aa0-9b39-a49c5cfbf34a')\"\n",
              "              title=\"Convert this dataframe to an interactive table.\"\n",
              "              style=\"display:none;\">\n",
              "        \n",
              "  <svg xmlns=\"http://www.w3.org/2000/svg\" height=\"24px\"viewBox=\"0 0 24 24\"\n",
              "       width=\"24px\">\n",
              "    <path d=\"M0 0h24v24H0V0z\" fill=\"none\"/>\n",
              "    <path d=\"M18.56 5.44l.94 2.06.94-2.06 2.06-.94-2.06-.94-.94-2.06-.94 2.06-2.06.94zm-11 1L8.5 8.5l.94-2.06 2.06-.94-2.06-.94L8.5 2.5l-.94 2.06-2.06.94zm10 10l.94 2.06.94-2.06 2.06-.94-2.06-.94-.94-2.06-.94 2.06-2.06.94z\"/><path d=\"M17.41 7.96l-1.37-1.37c-.4-.4-.92-.59-1.43-.59-.52 0-1.04.2-1.43.59L10.3 9.45l-7.72 7.72c-.78.78-.78 2.05 0 2.83L4 21.41c.39.39.9.59 1.41.59.51 0 1.02-.2 1.41-.59l7.78-7.78 2.81-2.81c.8-.78.8-2.07 0-2.86zM5.41 20L4 18.59l7.72-7.72 1.47 1.35L5.41 20z\"/>\n",
              "  </svg>\n",
              "      </button>\n",
              "      \n",
              "  <style>\n",
              "    .colab-df-container {\n",
              "      display:flex;\n",
              "      flex-wrap:wrap;\n",
              "      gap: 12px;\n",
              "    }\n",
              "\n",
              "    .colab-df-convert {\n",
              "      background-color: #E8F0FE;\n",
              "      border: none;\n",
              "      border-radius: 50%;\n",
              "      cursor: pointer;\n",
              "      display: none;\n",
              "      fill: #1967D2;\n",
              "      height: 32px;\n",
              "      padding: 0 0 0 0;\n",
              "      width: 32px;\n",
              "    }\n",
              "\n",
              "    .colab-df-convert:hover {\n",
              "      background-color: #E2EBFA;\n",
              "      box-shadow: 0px 1px 2px rgba(60, 64, 67, 0.3), 0px 1px 3px 1px rgba(60, 64, 67, 0.15);\n",
              "      fill: #174EA6;\n",
              "    }\n",
              "\n",
              "    [theme=dark] .colab-df-convert {\n",
              "      background-color: #3B4455;\n",
              "      fill: #D2E3FC;\n",
              "    }\n",
              "\n",
              "    [theme=dark] .colab-df-convert:hover {\n",
              "      background-color: #434B5C;\n",
              "      box-shadow: 0px 1px 3px 1px rgba(0, 0, 0, 0.15);\n",
              "      filter: drop-shadow(0px 1px 2px rgba(0, 0, 0, 0.3));\n",
              "      fill: #FFFFFF;\n",
              "    }\n",
              "  </style>\n",
              "\n",
              "      <script>\n",
              "        const buttonEl =\n",
              "          document.querySelector('#df-9f93ea2c-a873-4aa0-9b39-a49c5cfbf34a button.colab-df-convert');\n",
              "        buttonEl.style.display =\n",
              "          google.colab.kernel.accessAllowed ? 'block' : 'none';\n",
              "\n",
              "        async function convertToInteractive(key) {\n",
              "          const element = document.querySelector('#df-9f93ea2c-a873-4aa0-9b39-a49c5cfbf34a');\n",
              "          const dataTable =\n",
              "            await google.colab.kernel.invokeFunction('convertToInteractive',\n",
              "                                                     [key], {});\n",
              "          if (!dataTable) return;\n",
              "\n",
              "          const docLinkHtml = 'Like what you see? Visit the ' +\n",
              "            '<a target=\"_blank\" href=https://colab.research.google.com/notebooks/data_table.ipynb>data table notebook</a>'\n",
              "            + ' to learn more about interactive tables.';\n",
              "          element.innerHTML = '';\n",
              "          dataTable['output_type'] = 'display_data';\n",
              "          await google.colab.output.renderOutput(dataTable, element);\n",
              "          const docLink = document.createElement('div');\n",
              "          docLink.innerHTML = docLinkHtml;\n",
              "          element.appendChild(docLink);\n",
              "        }\n",
              "      </script>\n",
              "    </div>\n",
              "  </div>\n",
              "  "
            ]
          },
          "metadata": {},
          "execution_count": 23
        }
      ]
    },
    {
      "cell_type": "markdown",
      "source": [
        "From the above results, it appears that Passive Agressive Model with TFIDF Vectorizer gives the highest accuracy amongst various models."
      ],
      "metadata": {
        "id": "eqIYb-cY1kpx"
      }
    }
  ]
}